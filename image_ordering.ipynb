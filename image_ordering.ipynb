{
  "nbformat": 4,
  "nbformat_minor": 0,
  "metadata": {
    "colab": {
      "provenance": [],
      "machine_shape": "hm",
      "gpuType": "T4"
    },
    "kernelspec": {
      "name": "python3",
      "display_name": "Python 3"
    },
    "language_info": {
      "name": "python"
    },
    "accelerator": "GPU"
  },
  "cells": [
    {
      "cell_type": "markdown",
      "source": [
        "##Download the whole ImageNet"
      ],
      "metadata": {
        "id": "ZoPBvQkn6DEF"
      }
    },
    {
      "cell_type": "code",
      "source": [
        "!pip install datasets Pillow\n",
        "!huggingface-cli login\n",
        "from datasets import load_dataset\n",
        "ds = load_dataset(\"imagenet-1k\", split = \"validation\")"
      ],
      "metadata": {
        "id": "lb4VCmI-E4jp"
      },
      "execution_count": null,
      "outputs": []
    },
    {
      "cell_type": "markdown",
      "source": [
        "##Download a subset of ImageNet"
      ],
      "metadata": {
        "id": "sZQXxbWU6MPV"
      }
    },
    {
      "cell_type": "code",
      "source": [
        "!pip install kaggle\n",
        "!mkdir /content/kaggle\n",
        "!cp kaggle.json /content/kaggle/\n",
        "!chmod 600 /content/kaggle/kaggle.json\n",
        "!kaggle datasets download ifigotin/imagenetmini-1000\n",
        "!unzip /content/imagenetmini-1000.zip"
      ],
      "metadata": {
        "id": "nP_jf9ZW8LhS"
      },
      "execution_count": 9,
      "outputs": []
    },
    {
      "cell_type": "markdown",
      "source": [
        "## Import packages"
      ],
      "metadata": {
        "id": "aKkm3u9hE6Ag"
      }
    },
    {
      "cell_type": "code",
      "source": [
        "!pip install pot"
      ],
      "metadata": {
        "id": "j6FRswUgTGVz"
      },
      "execution_count": null,
      "outputs": []
    },
    {
      "cell_type": "code",
      "source": [
        "import numpy as np\n",
        "import torch\n",
        "from torchvision.models import resnet50, efficientnet_b3, EfficientNet_B3_Weights\n",
        "import torchvision.transforms as transforms\n",
        "from torchvision.datasets import ImageFolder\n",
        "from torch.utils.data import DataLoader\n",
        "\n",
        "from torchvision.models._api import WeightsEnum\n",
        "from torch.hub import load_state_dict_from_url\n",
        "\n",
        "from sklearn.metrics.pairwise import pairwise_distances\n",
        "import ot"
      ],
      "metadata": {
        "id": "fqQwtltN7TUZ"
      },
      "execution_count": 28,
      "outputs": []
    },
    {
      "cell_type": "markdown",
      "source": [
        "## Use EfficientNet to get prediction distribution"
      ],
      "metadata": {
        "id": "ByoB0Jf8IwsM"
      }
    },
    {
      "cell_type": "markdown",
      "source": [
        "Load images"
      ],
      "metadata": {
        "id": "4v8SRABaJEsC"
      }
    },
    {
      "cell_type": "code",
      "source": [
        "root_dir = '/content/imagenet-mini'\n",
        "\n",
        "transform = transforms.Compose([\n",
        "    transforms.Resize(256),\n",
        "    transforms.CenterCrop(224),\n",
        "    transforms.ToTensor(),\n",
        "    transforms.Normalize(mean=[0.485, 0.456, 0.406], std=[0.229, 0.224, 0.225]),\n",
        "])\n",
        "\n",
        "images = ImageFolder('/content/imagenet-mini/train', transform=transform)\n",
        "\n",
        "# Use DataLoader for easy iteration\n",
        "batch_size = 1\n",
        "ds_dataloader = DataLoader(images, batch_size=1, shuffle=False)"
      ],
      "metadata": {
        "id": "7V5Ysu7xFJnq"
      },
      "execution_count": 54,
      "outputs": []
    },
    {
      "cell_type": "markdown",
      "source": [
        "Get pretrained EfficientNet_B3"
      ],
      "metadata": {
        "id": "hn4iY1qmJGOz"
      }
    },
    {
      "cell_type": "code",
      "source": [
        "def get_state_dict(self, *args, **kwargs):\n",
        "    kwargs.pop(\"check_hash\")\n",
        "    return load_state_dict_from_url(self.url, *args, **kwargs)\n",
        "WeightsEnum.get_state_dict = get_state_dict\n",
        "\n",
        "model = efficientnet_b3(weights=EfficientNet_B3_Weights.IMAGENET1K_V1)\n",
        "model.eval()"
      ],
      "metadata": {
        "id": "PlNiwR8eIFqV"
      },
      "execution_count": null,
      "outputs": []
    },
    {
      "cell_type": "markdown",
      "source": [
        "Get the prediction distribution of images"
      ],
      "metadata": {
        "id": "7rIWjf2qPR9r"
      }
    },
    {
      "cell_type": "code",
      "source": [
        "l_pred_dist = []\n",
        "with torch.no_grad():\n",
        "    i = 1\n",
        "    for images, labels in ds_dataloader:\n",
        "        logits = model(images)\n",
        "        probabilities = torch.nn.functional.softmax(logits, dim=1)\n",
        "        l_pred_dist.append(probabilities.numpy().flatten())\n",
        "        i += 1\n",
        "        if i == 1000:\n",
        "          break"
      ],
      "metadata": {
        "id": "r92GTdUlOEa6"
      },
      "execution_count": 75,
      "outputs": []
    },
    {
      "cell_type": "markdown",
      "source": [
        "## Similarity matrix between images by wasserstein distance"
      ],
      "metadata": {
        "id": "9TBAYkbFQ4LD"
      }
    },
    {
      "cell_type": "code",
      "source": [
        "C = np.ones((1000, 1000)) # need to be updated\n",
        "\n",
        "def wasserstein(u,v):\n",
        "  ot_emd = ot.emd(u, v, C)\n",
        "  return np.sum(ot_emd * C)\n",
        "\n",
        "D = pairwise_distances(l_pred_dist, metric=wasserstein)"
      ],
      "metadata": {
        "id": "_MEWVD7Mwlta"
      },
      "execution_count": 77,
      "outputs": []
    },
    {
      "cell_type": "markdown",
      "source": [
        "## Image Ordering"
      ],
      "metadata": {
        "id": "HcJx3wZWZJMC"
      }
    }
  ]
}